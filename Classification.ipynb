{
  "nbformat": 4,
  "nbformat_minor": 0,
  "metadata": {
    "colab": {
      "provenance": [],
      "gpuType": "T4",
      "authorship_tag": "ABX9TyNI03EY0P1R7b7hbnLEdP8N",
      "include_colab_link": true
    },
    "kernelspec": {
      "name": "python3",
      "display_name": "Python 3"
    },
    "language_info": {
      "name": "python"
    },
    "accelerator": "GPU"
  },
  "cells": [
    {
      "cell_type": "markdown",
      "metadata": {
        "id": "view-in-github",
        "colab_type": "text"
      },
      "source": [
        "<a href=\"https://colab.research.google.com/github/nishitmv/ML/blob/main/Classification.ipynb\" target=\"_parent\"><img src=\"https://colab.research.google.com/assets/colab-badge.svg\" alt=\"Open In Colab\"/></a>"
      ]
    },
    {
      "cell_type": "code",
      "execution_count": 2,
      "metadata": {
        "colab": {
          "base_uri": "https://localhost:8080/"
        },
        "id": "gK0Xmn5jkJFn",
        "outputId": "79a22618-7693-4b7e-8750-c2217e001d3d"
      },
      "outputs": [
        {
          "output_type": "stream",
          "name": "stdout",
          "text": [
            "cpu\n",
            "tensor([[   86., 10269., 10721.,  ..., 10590., 10411., 10329.],\n",
            "        [   86., 10364., 10907.,  ..., 10493., 10398., 10357.],\n",
            "        [   86., 10329., 10793.,  ..., 10533., 10427., 10265.],\n",
            "        ...,\n",
            "        [   88., 10412., 10780.,  ..., 11070., 10909., 10696.],\n",
            "        [   88., 10697., 11502.,  ..., 10700., 10509., 10426.],\n",
            "        [   88., 10483., 11227.,  ..., 10993., 10738., 10504.]])\n",
            "tensor([0., 1., 0.,  ..., 0., 0., 0.])\n"
          ]
        }
      ],
      "source": [
        "import pandas as pd\n",
        "import torch\n",
        "from torch.utils.data import Dataset, DataLoader\n",
        "device = torch.device('cuda' if torch.cuda.is_available() else 'cpu')\n",
        "\n",
        "print(device)\n",
        "\n",
        "df = pd.read_csv(\"/content/sample_data/Classification_train.csv\")\n",
        "\n",
        "features = df.drop(columns=[\"Date\", \"Time\", \"Label\"]).values.astype('float32')\n",
        "labels = df[\"Label\"].values.astype('float32')\n",
        "\n",
        "features_tensor = torch.tensor(features)\n",
        "labels_tensor = torch.tensor(labels)\n",
        "\n",
        "print(features_tensor)\n",
        "print(labels_tensor)"
      ]
    },
    {
      "cell_type": "code",
      "source": [],
      "metadata": {
        "id": "JnTuupsDnZ13"
      },
      "execution_count": null,
      "outputs": []
    },
    {
      "cell_type": "markdown",
      "source": [],
      "metadata": {
        "id": "07Je2TuImpeG"
      }
    }
  ]
}