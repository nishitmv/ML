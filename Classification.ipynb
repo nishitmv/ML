{
  "nbformat": 4,
  "nbformat_minor": 0,
  "metadata": {
    "colab": {
      "provenance": [],
      "gpuType": "T4",
      "authorship_tag": "ABX9TyPiMmxS++9QwOfsE3mPinfz",
      "include_colab_link": true
    },
    "kernelspec": {
      "name": "python3",
      "display_name": "Python 3"
    },
    "language_info": {
      "name": "python"
    },
    "accelerator": "GPU"
  },
  "cells": [
    {
      "cell_type": "markdown",
      "metadata": {
        "id": "view-in-github",
        "colab_type": "text"
      },
      "source": [
        "<a href=\"https://colab.research.google.com/github/nishitmv/ML/blob/main/Classification.ipynb\" target=\"_parent\"><img src=\"https://colab.research.google.com/assets/colab-badge.svg\" alt=\"Open In Colab\"/></a>"
      ]
    },
    {
      "cell_type": "code",
      "execution_count": 2,
      "metadata": {
        "colab": {
          "base_uri": "https://localhost:8080/"
        },
        "id": "gK0Xmn5jkJFn",
        "outputId": "895b4518-5aca-4db0-a934-7ad1d8e3ef3a"
      },
      "outputs": [
        {
          "output_type": "stream",
          "name": "stdout",
          "text": [
            "cuda\n",
            "<torch.utils.data.dataloader.DataLoader object at 0x7a2b79862310>\n",
            "<torch.utils.data.dataloader.DataLoader object at 0x7a2b7ac81510>\n"
          ]
        }
      ],
      "source": [
        "import pandas as pd\n",
        "import torch\n",
        "from torch.utils.data import Dataset, DataLoader\n",
        "from sklearn.model_selection import train_test_split\n",
        "from sklearn.preprocessing import StandardScaler\n",
        "import numpy as np\n",
        "device = torch.device('cuda' if torch.cuda.is_available() else 'cpu')\n",
        "\n",
        "print(device)\n",
        "\n",
        "df = pd.read_csv(\"/content/sample_data/Classification_train.csv\")\n",
        "\n",
        "# Remove rows where 'Label' is 3\n",
        "df = df[df['Label'] != 3]\n",
        "\n",
        "#df = df.sample(n=1000, random_state=42).reset_index(drop=True)\n",
        "\n",
        "features = df.drop(columns=[\"Date\", \"Time\", \"Label\"]).values.astype('float32')\n",
        "labels = df[\"Label\"].values.astype('int')\n",
        "\n",
        "features_tensor = torch.tensor(features)\n",
        "labels_tensor = torch.tensor(labels)\n",
        "\n",
        "\n",
        "features_train, features_test, labels_train, labels_test = train_test_split(features_tensor, labels_tensor, test_size=0.2, random_state=42)\n",
        "scaler = StandardScaler()\n",
        "features_train_scaled = scaler.fit_transform(features_train)\n",
        "features_test_scaled = scaler.transform(features_test)\n",
        "\n",
        "features_train_scaled = torch.tensor(features_train_scaled).to(torch.float32)\n",
        "features_test_scaled = torch.tensor(features_test_scaled).to(torch.float32)\n",
        "\n",
        "train_features_dataloader = DataLoader(features_train_scaled, shuffle=False)\n",
        "labels_train_dataloader = DataLoader(labels_train,  shuffle=False)\n",
        "test_features_dataloader = DataLoader(features_test_scaled, shuffle=False)\n",
        "labels_test_dataloader = DataLoader(labels_test,  shuffle=False)\n",
        "\n",
        "print(labels_train_dataloader)\n",
        "print(train_features_dataloader)\n",
        "#"
      ]
    },
    {
      "cell_type": "code",
      "source": [
        "import torch.nn as nn\n",
        "import torch.optim as optim\n",
        "from sklearn.metrics import confusion_matrix, ConfusionMatrixDisplay\n",
        "import matplotlib.pyplot as plt\n",
        "\n",
        "print(features_tensor.shape)\n",
        "\n",
        "model = nn.Sequential(\n",
        "            nn.Linear(features_train.shape[1], 64),\n",
        "            nn.ReLU(),\n",
        "            nn.Linear(64, 64),\n",
        "            nn.ReLU(),\n",
        "            nn.Dropout(),\n",
        "            nn.Linear(64, 2)\n",
        "        )\n",
        "\n",
        "def forward(self, x):\n",
        "        x = self.flatten(x)\n",
        "        logits = model(x)\n",
        "        return logits\n",
        "\n",
        "epochs=5\n",
        "optimizer = optim.Adam(model.parameters(), lr=0.001)\n",
        "loss_func = nn.CrossEntropyLoss()\n",
        "\n",
        "for epoch in range(epochs):\n",
        " model.train()\n",
        " counter = 0\n",
        " size = len(train_features_dataloader.dataset)\n",
        " for feature, label in zip(train_features_dataloader, labels_train_dataloader):\n",
        "  counter+=1\n",
        "  output = model(feature)\n",
        "  loss = loss_func(output, label)\n",
        "  loss.backward()\n",
        "  optimizer.step()\n",
        "  optimizer.zero_grad()\n",
        "  if(counter % 500 == 0):\n",
        "    loss, current = loss.item(), counter * len(feature)\n",
        "    print(f\"loss: {loss:>7f}  [{current:>5d}/{size:>5d}]\")\n",
        "\n",
        "torch.save(model, '3layersdropout.pth')"
      ],
      "metadata": {
        "id": "JnTuupsDnZ13",
        "colab": {
          "base_uri": "https://localhost:8080/"
        },
        "outputId": "decb633a-8c49-4ebe-f461-7590dedcdcc4"
      },
      "execution_count": 3,
      "outputs": [
        {
          "output_type": "stream",
          "name": "stdout",
          "text": [
            "torch.Size([7080, 56])\n",
            "loss: 0.198012  [  500/ 5664]\n",
            "loss: 0.008141  [ 1000/ 5664]\n",
            "loss: 0.011414  [ 1500/ 5664]\n",
            "loss: 0.000012  [ 2000/ 5664]\n",
            "loss: 0.003216  [ 2500/ 5664]\n",
            "loss: 0.000000  [ 3000/ 5664]\n",
            "loss: 0.020251  [ 3500/ 5664]\n",
            "loss: 0.000000  [ 4000/ 5664]\n",
            "loss: 0.000000  [ 4500/ 5664]\n",
            "loss: 0.000000  [ 5000/ 5664]\n",
            "loss: 0.000000  [ 5500/ 5664]\n",
            "loss: 0.013681  [  500/ 5664]\n",
            "loss: 0.000001  [ 1000/ 5664]\n",
            "loss: 0.001263  [ 1500/ 5664]\n",
            "loss: 0.000001  [ 2000/ 5664]\n",
            "loss: 0.000106  [ 2500/ 5664]\n",
            "loss: 0.000000  [ 3000/ 5664]\n",
            "loss: 0.000525  [ 3500/ 5664]\n",
            "loss: 0.000000  [ 4000/ 5664]\n",
            "loss: 0.000000  [ 4500/ 5664]\n",
            "loss: 0.000000  [ 5000/ 5664]\n",
            "loss: 0.000000  [ 5500/ 5664]\n",
            "loss: 0.092304  [  500/ 5664]\n",
            "loss: 0.000002  [ 1000/ 5664]\n",
            "loss: 0.000636  [ 1500/ 5664]\n",
            "loss: 0.000008  [ 2000/ 5664]\n",
            "loss: 0.007296  [ 2500/ 5664]\n",
            "loss: 0.000000  [ 3000/ 5664]\n",
            "loss: 0.000129  [ 3500/ 5664]\n",
            "loss: 0.000000  [ 4000/ 5664]\n",
            "loss: 0.000000  [ 4500/ 5664]\n",
            "loss: 0.000000  [ 5000/ 5664]\n",
            "loss: 0.000000  [ 5500/ 5664]\n",
            "loss: 0.087796  [  500/ 5664]\n",
            "loss: 0.000001  [ 1000/ 5664]\n",
            "loss: 0.004221  [ 1500/ 5664]\n",
            "loss: 0.000000  [ 2000/ 5664]\n",
            "loss: 0.015322  [ 2500/ 5664]\n",
            "loss: 0.000000  [ 3000/ 5664]\n",
            "loss: 0.000000  [ 3500/ 5664]\n",
            "loss: 0.000000  [ 4000/ 5664]\n",
            "loss: 0.000000  [ 4500/ 5664]\n",
            "loss: 0.000000  [ 5000/ 5664]\n",
            "loss: 0.000000  [ 5500/ 5664]\n",
            "loss: 0.033553  [  500/ 5664]\n",
            "loss: 0.001592  [ 1000/ 5664]\n",
            "loss: 0.000034  [ 1500/ 5664]\n",
            "loss: 0.000000  [ 2000/ 5664]\n",
            "loss: 0.003449  [ 2500/ 5664]\n",
            "loss: 0.000000  [ 3000/ 5664]\n",
            "loss: 0.002835  [ 3500/ 5664]\n",
            "loss: 0.000000  [ 4000/ 5664]\n",
            "loss: 0.000000  [ 4500/ 5664]\n",
            "loss: 0.000000  [ 5000/ 5664]\n",
            "loss: 0.000000  [ 5500/ 5664]\n"
          ]
        }
      ]
    },
    {
      "cell_type": "code",
      "source": [
        "from sklearn.metrics import confusion_matrix, ConfusionMatrixDisplay\n",
        "import matplotlib.pyplot as plt\n",
        "from sklearn.metrics import precision_score, recall_score, f1_score\n",
        "model = torch.load('3layersdropout.pth', weights_only=False)\n",
        "\n",
        "model.eval()\n",
        "correct = 0\n",
        "total = 0\n",
        "all_labels =[]\n",
        "all_predictions=[]\n",
        "with torch.no_grad():\n",
        "  for feature_test, label_test in zip(test_features_dataloader, labels_test_dataloader):\n",
        "    predicted = model(feature_test)\n",
        "    total += 1\n",
        "    correct += (predicted.argmax(1) == label_test).type(torch.int).sum().item()\n",
        "    all_labels.extend(label_test.numpy())\n",
        "    all_predictions.extend(predicted.argmax(1).numpy())\n",
        "  cm = confusion_matrix(all_labels, all_predictions)\n",
        "  disp = ConfusionMatrixDisplay(confusion_matrix=cm)\n",
        "  disp.plot(cmap='Blues')\n",
        "  plt.title('Confusion Matrix')\n",
        "  plt.show()\n",
        "  print(correct)\n",
        "  print(total)\n",
        "  print(f\"Test Accuracy: {100 * correct / total:.2f}%\")\n",
        "  precision = precision_score(all_labels, all_predictions, average='binary')\n",
        "  recall = recall_score(all_labels, all_predictions, average='binary')\n",
        "  f1 = f1_score(all_labels, all_predictions, average='binary')\n",
        "\n",
        "  print(f\"Precision: {precision:.2f}\")\n",
        "  print(f\"Recall:    {recall:.2f}\")\n",
        "  print(f\"F1 Score:  {f1:.2f}\")"
      ],
      "metadata": {
        "colab": {
          "base_uri": "https://localhost:8080/",
          "height": 576
        },
        "id": "2TW0nULdrud5",
        "outputId": "2a8f491f-5d2d-47c7-b0d9-cc4c6edd8cba"
      },
      "execution_count": 4,
      "outputs": [
        {
          "output_type": "display_data",
          "data": {
            "text/plain": [
              "<Figure size 640x480 with 2 Axes>"
            ],
            "image/png": "[encoded data removed]"
          },
          "metadata": {}
        },
        {
          "output_type": "stream",
          "name": "stdout",
          "text": [
            "1394\n",
            "1416\n",
            "Test Accuracy: 98.45%\n",
            "Precision: 0.92\n",
            "Recall:    0.94\n",
            "F1 Score:  0.93\n"
          ]
        }
      ]
    },
    {
      "cell_type": "markdown",
      "source": [
        "SGD"
      ],
      "metadata": {
        "id": "5pZkXhYfO4ES"
      }
    },
    {
      "cell_type": "code",
      "source": [
        "import torch.nn as nn\n",
        "import torch.optim as optim\n",
        "\n",
        "print(features_tensor.shape)\n",
        "\n",
        "model = nn.Sequential(\n",
        "            nn.Linear(features_tensor.shape[1], 512),\n",
        "            nn.ReLU(),\n",
        "            nn.Linear(512, 512),\n",
        "            nn.ReLU(),\n",
        "            nn.Linear(512, 64),\n",
        "            nn.ReLU(),\n",
        "            nn.Linear(64, 2)\n",
        "        )\n",
        "\n",
        "epochs=20\n",
        "optimizer = optim.SGD(model.parameters(), lr=0.001)\n",
        "loss_func = nn.CrossEntropyLoss()\n",
        "\n",
        "for epoch in range(epochs):\n",
        " model.train()\n",
        " for feature, label in zip(train_features_dataloader, labels_train_dataloader):\n",
        "\n",
        "  optimizer.zero_grad()\n",
        "  output = model(feature)\n",
        "  loss = loss_func(output, label.long())\n",
        "  loss.backward()\n",
        "  optimizer.step()\n",
        " print(f\"Epoch {epoch+1}/{epochs}, Loss: {loss.item()}\")\n",
        "torch.save(model, '4layersSGD.pth')\n"
      ],
      "metadata": {
        "colab": {
          "base_uri": "https://localhost:8080/"
        },
        "id": "P5GAPT3o0cLQ",
        "outputId": "5f97cf09-1e0e-4778-a165-6b350d609c71"
      },
      "execution_count": 5,
      "outputs": [
        {
          "output_type": "stream",
          "name": "stdout",
          "text": [
            "torch.Size([7080, 56])\n",
            "Epoch 1/20, Loss: 0.00021789084712509066\n",
            "Epoch 2/20, Loss: 8.940656698541716e-06\n",
            "Epoch 3/20, Loss: 2.0265558760002023e-06\n",
            "Epoch 4/20, Loss: 5.960462772236497e-07\n",
            "Epoch 5/20, Loss: 2.3841855067985307e-07\n",
            "Epoch 6/20, Loss: 1.1920928244535389e-07\n",
            "Epoch 7/20, Loss: 1.1920928244535389e-07\n",
            "Epoch 8/20, Loss: 0.0\n",
            "Epoch 9/20, Loss: 0.0\n",
            "Epoch 10/20, Loss: 0.0\n",
            "Epoch 11/20, Loss: 0.0\n",
            "Epoch 12/20, Loss: 0.0\n",
            "Epoch 13/20, Loss: 0.0\n",
            "Epoch 14/20, Loss: 0.0\n",
            "Epoch 15/20, Loss: 0.0\n",
            "Epoch 16/20, Loss: 0.0\n",
            "Epoch 17/20, Loss: 0.0\n",
            "Epoch 18/20, Loss: 0.0\n",
            "Epoch 19/20, Loss: 0.0\n",
            "Epoch 20/20, Loss: 0.0\n"
          ]
        }
      ]
    },
    {
      "cell_type": "code",
      "source": [
        "from sklearn.metrics import confusion_matrix, ConfusionMatrixDisplay\n",
        "import matplotlib.pyplot as plt\n",
        "from sklearn.metrics import precision_score, recall_score, f1_score\n",
        "model = torch.load('4layersSGD.pth', weights_only=False)\n",
        "\n",
        "model.eval()\n",
        "correct = 0\n",
        "total = 0\n",
        "all_labels =[]\n",
        "all_predictions=[]\n",
        "with torch.no_grad():\n",
        "  for feature_test, label_test in zip(test_features_dataloader, labels_test_dataloader):\n",
        "    predicted = model(feature_test)\n",
        "    total += 1\n",
        "    correct += (predicted.argmax(1) == label_test).type(torch.int).sum().item()\n",
        "    all_labels.extend(label_test.numpy())\n",
        "    all_predictions.extend(predicted.argmax(1).numpy())\n",
        "  cm = confusion_matrix(all_labels, all_predictions)\n",
        "  disp = ConfusionMatrixDisplay(confusion_matrix=cm)\n",
        "  disp.plot(cmap='Blues')\n",
        "  plt.title('Confusion Matrix')\n",
        "  plt.show()\n",
        "  print(correct)\n",
        "  print(total)\n",
        "  print(f\"Test Accuracy: {100 * correct / total:.2f}%\")\n",
        "  precision = precision_score(all_labels, all_predictions, average='binary')\n",
        "  recall = recall_score(all_labels, all_predictions, average='binary')\n",
        "  f1 = f1_score(all_labels, all_predictions, average='binary')\n",
        "\n",
        "  print(f\"Precision: {precision:.2f}\")\n",
        "  print(f\"Recall:    {recall:.2f}\")\n",
        "  print(f\"F1 Score:  {f1:.2f}\")"
      ],
      "metadata": {
        "colab": {
          "base_uri": "https://localhost:8080/",
          "height": 576
        },
        "id": "RGwFxF9zK53i",
        "outputId": "c821cbfe-47e1-46e9-f9a4-86a8c1e6bb1d"
      },
      "execution_count": 6,
      "outputs": [
        {
          "output_type": "display_data",
          "data": {
            "text/plain": [
              "<Figure size 640x480 with 2 Axes>"
            ],
            "image/png": "[encoded data removed]"
          },
          "metadata": {}
        },
        {
          "output_type": "stream",
          "name": "stdout",
          "text": [
            "1403\n",
            "1416\n",
            "Test Accuracy: 99.08%\n",
            "Precision: 0.97\n",
            "Recall:    0.94\n",
            "F1 Score:  0.96\n"
          ]
        }
      ]
    },
    {
      "cell_type": "code",
      "source": [
        "import torch.nn as nn\n",
        "import torch.optim as optim\n",
        "\n",
        "print(features_tensor.shape)\n",
        "\n",
        "model = nn.Sequential(\n",
        "            nn.Linear(features_tensor.shape[1], 512),\n",
        "            nn.ReLU(),\n",
        "            nn.Linear(512, 512),\n",
        "            nn.ReLU(),\n",
        "            nn.Dropout(),\n",
        "            nn.Linear(512, 64),\n",
        "            nn.ReLU(),\n",
        "            nn.Dropout(),\n",
        "            nn.Linear(64, 2)\n",
        "        )\n",
        "\n",
        "epochs=20\n",
        "optimizer = optim.Adam(model.parameters(), lr=0.001)\n",
        "loss_func = nn.CrossEntropyLoss()\n",
        "\n",
        "for epoch in range(epochs):\n",
        " model.train()\n",
        " for feature, label in zip(train_features_dataloader, labels_train_dataloader):\n",
        "\n",
        "  optimizer.zero_grad()\n",
        "  output = model(feature)\n",
        "  loss = loss_func(output, label.long())\n",
        "  loss.backward()\n",
        "  optimizer.step()\n",
        " print(f\"Epoch {epoch+1}/{epochs}, Loss: {loss.item()}\")\n",
        "torch.save(model, '4layersdropout.pth')\n"
      ],
      "metadata": {
        "colab": {
          "base_uri": "https://localhost:8080/"
        },
        "id": "nXilWg2D1LDB",
        "outputId": "e298a490-693f-4e09-904e-b1275783b14b"
      },
      "execution_count": 7,
      "outputs": [
        {
          "output_type": "stream",
          "name": "stdout",
          "text": [
            "torch.Size([7080, 56])\n",
            "Epoch 1/20, Loss: 0.0\n",
            "Epoch 2/20, Loss: 0.0\n",
            "Epoch 3/20, Loss: 0.0\n",
            "Epoch 4/20, Loss: 0.0\n",
            "Epoch 5/20, Loss: 0.0\n",
            "Epoch 6/20, Loss: 0.0\n",
            "Epoch 7/20, Loss: 0.0\n",
            "Epoch 8/20, Loss: 0.0\n",
            "Epoch 9/20, Loss: 0.0\n",
            "Epoch 10/20, Loss: 0.0\n",
            "Epoch 11/20, Loss: 0.0\n",
            "Epoch 12/20, Loss: 0.0\n",
            "Epoch 13/20, Loss: 0.0\n",
            "Epoch 14/20, Loss: 0.0\n",
            "Epoch 15/20, Loss: 0.0\n",
            "Epoch 16/20, Loss: 0.0\n",
            "Epoch 17/20, Loss: 0.0\n",
            "Epoch 18/20, Loss: 0.0\n",
            "Epoch 19/20, Loss: 0.0\n",
            "Epoch 20/20, Loss: 0.0\n"
          ]
        }
      ]
    },
    {
      "cell_type": "code",
      "source": [
        "from sklearn.metrics import confusion_matrix, ConfusionMatrixDisplay\n",
        "import matplotlib.pyplot as plt\n",
        "from sklearn.metrics import precision_score, recall_score, f1_score\n",
        "model = torch.load('4layersdropout.pth', weights_only=False)\n",
        "\n",
        "model.eval()\n",
        "correct = 0\n",
        "total = 0\n",
        "all_labels =[]\n",
        "all_predictions=[]\n",
        "with torch.no_grad():\n",
        "  for feature_test, label_test in zip(test_features_dataloader, labels_test_dataloader):\n",
        "    predicted = model(feature_test)\n",
        "    total += 1\n",
        "    correct += (predicted.argmax(1) == label_test).type(torch.int).sum().item()\n",
        "    all_labels.extend(label_test.numpy())\n",
        "    all_predictions.extend(predicted.argmax(1).numpy())\n",
        "  cm = confusion_matrix(all_labels, all_predictions)\n",
        "  disp = ConfusionMatrixDisplay(confusion_matrix=cm)\n",
        "  disp.plot(cmap='Blues')\n",
        "  plt.title('Confusion Matrix')\n",
        "  plt.show()\n",
        "  print(correct)\n",
        "  print(total)\n",
        "  print(f\"Test Accuracy: {100 * correct / total:.2f}%\")\n",
        "  precision = precision_score(all_labels, all_predictions, average='binary')\n",
        "  recall = recall_score(all_labels, all_predictions, average='binary')\n",
        "  f1 = f1_score(all_labels, all_predictions, average='binary')\n",
        "\n",
        "  print(f\"Precision: {precision:.2f}\")\n",
        "  print(f\"Recall:    {recall:.2f}\")\n",
        "  print(f\"F1 Score:  {f1:.2f}\")"
      ],
      "metadata": {
        "colab": {
          "base_uri": "https://localhost:8080/",
          "height": 576
        },
        "outputId": "36f1b8a6-69c6-4fa9-ed6c-b96ec41197f9",
        "id": "J9uLcPEmL5tN"
      },
      "execution_count": 8,
      "outputs": [
        {
          "output_type": "display_data",
          "data": {
            "text/plain": [
              "<Figure size 640x480 with 2 Axes>"
            ],
            "image/png": "[encoded data removed]"
          },
          "metadata": {}
        },
        {
          "output_type": "stream",
          "name": "stdout",
          "text": [
            "1397\n",
            "1416\n",
            "Test Accuracy: 98.66%\n",
            "Precision: 0.94\n",
            "Recall:    0.94\n",
            "F1 Score:  0.94\n"
          ]
        }
      ]
    },
    {
      "cell_type": "markdown",
      "source": [
        "More layers!"
      ],
      "metadata": {
        "id": "_V20yb6CPPAi"
      }
    },
    {
      "cell_type": "code",
      "source": [
        "import torch.nn as nn\n",
        "import torch.optim as optim\n",
        "\n",
        "print(features_tensor.shape)\n",
        "\n",
        "model = nn.Sequential(\n",
        "            nn.Linear(features_tensor.shape[1], 512),\n",
        "            nn.ReLU(),\n",
        "            nn.Linear(512, 512),\n",
        "            nn.ReLU(),\n",
        "            nn.Dropout(),\n",
        "            nn.Linear(512, 256),\n",
        "            nn.ReLU(),\n",
        "            nn.Dropout(),\n",
        "            nn.Linear(256, 64),\n",
        "            nn.ReLU(),\n",
        "            nn.Dropout(),\n",
        "            nn.Linear(64, 2)\n",
        "        )\n",
        "\n",
        "epochs=10\n",
        "optimizer = optim.Adam(model.parameters(), lr=0.001)\n",
        "loss_func = nn.CrossEntropyLoss()\n",
        "\n",
        "for epoch in range(epochs):\n",
        " model.train()\n",
        " for feature, label in zip(train_features_dataloader, labels_train_dataloader):\n",
        "\n",
        "  optimizer.zero_grad()\n",
        "  output = model(feature)\n",
        "  loss = loss_func(output, label.long())\n",
        "  loss.backward()\n",
        "  optimizer.step()\n",
        " print(f\"Epoch {epoch+1}/{epochs}, Loss: {loss.item()}\")\n",
        "torch.save(model, '5layersdropout.pth')"
      ],
      "metadata": {
        "colab": {
          "base_uri": "https://localhost:8080/"
        },
        "id": "9dlHmfPM1TfR",
        "outputId": "c9cca384-7957-4a3f-a8d7-ff9f810f10d6"
      },
      "execution_count": 9,
      "outputs": [
        {
          "output_type": "stream",
          "name": "stdout",
          "text": [
            "torch.Size([7080, 56])\n",
            "Epoch 1/10, Loss: 0.0\n",
            "Epoch 2/10, Loss: 0.0\n",
            "Epoch 3/10, Loss: 0.0\n",
            "Epoch 4/10, Loss: 0.0\n",
            "Epoch 5/10, Loss: 0.0\n",
            "Epoch 6/10, Loss: 0.0\n",
            "Epoch 7/10, Loss: 0.0\n",
            "Epoch 8/10, Loss: 0.0\n",
            "Epoch 9/10, Loss: 0.0\n",
            "Epoch 10/10, Loss: 0.0\n"
          ]
        }
      ]
    },
    {
      "cell_type": "markdown",
      "source": [],
      "metadata": {
        "id": "07Je2TuImpeG"
      }
    },
    {
      "cell_type": "code",
      "source": [
        "from sklearn.metrics import confusion_matrix, ConfusionMatrixDisplay\n",
        "import matplotlib.pyplot as plt\n",
        "from sklearn.metrics import precision_score, recall_score, f1_score\n",
        "model = torch.load('5layersdropout.pth', weights_only=False)\n",
        "model.eval()\n",
        "correct = 0\n",
        "total = 0\n",
        "all_labels =[]\n",
        "all_predictions=[]\n",
        "with torch.no_grad():\n",
        "  for feature_test, label_test in zip(test_features_dataloader, labels_test_dataloader):\n",
        "    predicted = model(feature_test)\n",
        "    total += 1\n",
        "    correct += (predicted.argmax(1) == label_test).type(torch.int).sum().item()\n",
        "    all_labels.extend(label_test.numpy())\n",
        "    all_predictions.extend(predicted.argmax(1).numpy())\n",
        "  cm = confusion_matrix(all_labels, all_predictions)\n",
        "  disp = ConfusionMatrixDisplay(confusion_matrix=cm)\n",
        "  disp.plot(cmap='Blues')\n",
        "  plt.title('Confusion Matrix')\n",
        "  plt.show()\n",
        "  print(correct)\n",
        "  print(total)\n",
        "  print(f\"Test Accuracy: {100 * correct / total:.2f}%\")\n",
        "  precision = precision_score(all_labels, all_predictions, average='binary')\n",
        "  recall = recall_score(all_labels, all_predictions, average='binary')\n",
        "  f1 = f1_score(all_labels, all_predictions, average='binary')\n",
        "\n",
        "  print(f\"Precision: {precision:.2f}\")\n",
        "  print(f\"Recall:    {recall:.2f}\")\n",
        "  print(f\"F1 Score:  {f1:.2f}\")"
      ],
      "metadata": {
        "colab": {
          "base_uri": "https://localhost:8080/",
          "height": 576
        },
        "outputId": "a0fb6856-dc19-40e9-a870-c0adf9c48b96",
        "id": "i7sNjdk5MBRk"
      },
      "execution_count": 13,
      "outputs": [
        {
          "output_type": "display_data",
          "data": {
            "text/plain": [
              "<Figure size 640x480 with 2 Axes>"
            ],
            "image/png": "[encoded data removed]"
          },
          "metadata": {}
        },
        {
          "output_type": "stream",
          "name": "stdout",
          "text": [
            "1388\n",
            "1416\n",
            "Test Accuracy: 98.02%\n",
            "Precision: 0.88\n",
            "Recall:    0.96\n",
            "F1 Score:  0.92\n"
          ]
        }
      ]
    },
    {
      "cell_type": "code",
      "source": [
        "import torch.nn as nn\n",
        "import torch.optim as optim\n",
        "\n",
        "print(features_tensor.shape)\n",
        "\n",
        "model = nn.Sequential(\n",
        "            nn.Linear(features_tensor.shape[1], 64),\n",
        "            nn.Tanh(),\n",
        "            nn.Linear(64, 64),\n",
        "            nn.Tanh(),\n",
        "            nn.Linear(64, 2)\n",
        "        )\n",
        "\n",
        "epochs=10\n",
        "optimizer = optim.Adam(model.parameters(), lr=0.001)\n",
        "loss_func = nn.CrossEntropyLoss()\n",
        "\n",
        "for epoch in range(epochs):\n",
        " model.train()\n",
        " for feature, label in zip(train_features_dataloader, labels_train_dataloader):\n",
        "\n",
        "  optimizer.zero_grad()\n",
        "  output = model(feature)\n",
        "  loss = loss_func(output, label)\n",
        "  loss.backward()\n",
        "  optimizer.step()\n",
        " print(f\"Epoch {epoch+1}/{epochs}, Loss: {loss.item()}\")\n",
        "\n",
        "torch.save(model, '3layersTanH.pth')"
      ],
      "metadata": {
        "colab": {
          "base_uri": "https://localhost:8080/"
        },
        "id": "9yPxtm262FDL",
        "outputId": "7f3f39c8-c32d-4af2-b5eb-74d86d9bd914"
      },
      "execution_count": 14,
      "outputs": [
        {
          "output_type": "stream",
          "name": "stdout",
          "text": [
            "torch.Size([7080, 56])\n",
            "Epoch 1/10, Loss: 0.0001958416833076626\n",
            "Epoch 2/10, Loss: 0.0004318020073696971\n",
            "Epoch 3/10, Loss: 0.0007524043321609497\n",
            "Epoch 4/10, Loss: 0.0010178867960348725\n",
            "Epoch 5/10, Loss: 0.0010277710389345884\n",
            "Epoch 6/10, Loss: 0.0006506709614768624\n",
            "Epoch 7/10, Loss: 0.0006968930247239769\n",
            "Epoch 8/10, Loss: 0.00047886825632303953\n",
            "Epoch 9/10, Loss: 0.00038092033355496824\n",
            "Epoch 10/10, Loss: 0.00024673278676345944\n"
          ]
        }
      ]
    },
    {
      "cell_type": "code",
      "source": [
        "from sklearn.metrics import confusion_matrix, ConfusionMatrixDisplay\n",
        "import matplotlib.pyplot as plt\n",
        "from sklearn.metrics import precision_score, recall_score, f1_score\n",
        "model = torch.load('3layersTanH.pth', weights_only=False)\n",
        "\n",
        "model.eval()\n",
        "correct = 0\n",
        "total = 0\n",
        "all_labels =[]\n",
        "all_predictions=[]\n",
        "with torch.no_grad():\n",
        "  for feature_test, label_test in zip(test_features_dataloader, labels_test_dataloader):\n",
        "    predicted = model(feature_test)\n",
        "    total += 1\n",
        "    correct += (predicted.argmax(1) == label_test).type(torch.int).sum().item()\n",
        "    all_labels.extend(label_test.numpy())\n",
        "    all_predictions.extend(predicted.argmax(1).numpy())\n",
        "  cm = confusion_matrix(all_labels, all_predictions)\n",
        "  disp = ConfusionMatrixDisplay(confusion_matrix=cm)\n",
        "  disp.plot(cmap='Blues')\n",
        "  plt.title('Confusion Matrix')\n",
        "  plt.show()\n",
        "  print(correct)\n",
        "  print(total)\n",
        "  print(f\"Test Accuracy: {100 * correct / total:.2f}%\")\n",
        "  precision = precision_score(all_labels, all_predictions, average='binary')\n",
        "  recall = recall_score(all_labels, all_predictions, average='binary')\n",
        "  f1 = f1_score(all_labels, all_predictions, average='binary')\n",
        "\n",
        "  print(f\"Precision: {precision:.2f}\")\n",
        "  print(f\"Recall:    {recall:.2f}\")\n",
        "  print(f\"F1 Score:  {f1:.2f}\")"
      ],
      "metadata": {
        "colab": {
          "base_uri": "https://localhost:8080/",
          "height": 576
        },
        "outputId": "4ab5787a-3b2d-4d19-ae41-928788075bf4",
        "id": "dUHxLQxJMIR0"
      },
      "execution_count": 15,
      "outputs": [
        {
          "output_type": "display_data",
          "data": {
            "text/plain": [
              "<Figure size 640x480 with 2 Axes>"
            ],
            "image/png": "[encoded data removed]"
          },
          "metadata": {}
        },
        {
          "output_type": "stream",
          "name": "stdout",
          "text": [
            "1395\n",
            "1416\n",
            "Test Accuracy: 98.52%\n",
            "Precision: 0.99\n",
            "Recall:    0.88\n",
            "F1 Score:  0.93\n"
          ]
        }
      ]
    },
    {
      "cell_type": "code",
      "source": [
        "import torch.nn as nn\n",
        "import torch.optim as optim\n",
        "\n",
        "print(features_tensor.shape)\n",
        "\n",
        "model = nn.Sequential(\n",
        "            nn.Linear(features_tensor.shape[1], 64),\n",
        "            nn.Sigmoid(),\n",
        "            nn.Linear(64, 64),\n",
        "            nn.Sigmoid(),\n",
        "            nn.Linear(64, 2)\n",
        "        )\n",
        "\n",
        "epochs=10\n",
        "optimizer = optim.Adam(model.parameters(), lr=0.001)\n",
        "loss_func = nn.CrossEntropyLoss()\n",
        "\n",
        "for epoch in range(epochs):\n",
        " model.train()\n",
        " for feature, label in zip(train_features_dataloader, labels_train_dataloader):\n",
        "\n",
        "  optimizer.zero_grad()\n",
        "  output = model(feature)\n",
        "  loss = loss_func(output, label)\n",
        "  loss.backward()\n",
        "  optimizer.step()\n",
        " print(f\"Epoch {epoch+1}/{epochs}, Loss: {loss.item()}\")\n",
        "\n",
        "torch.save(model, '3layersSigmoid.pth')"
      ],
      "metadata": {
        "colab": {
          "base_uri": "https://localhost:8080/"
        },
        "id": "UP20fbyN55LB",
        "outputId": "2971cd1f-a4da-465c-9e54-5c4e9d02f100"
      },
      "execution_count": null,
      "outputs": [
        {
          "output_type": "stream",
          "name": "stdout",
          "text": [
            "torch.Size([7080, 56])\n",
            "Epoch 1/10, Loss: 1.3708974620385561e-05\n",
            "Epoch 2/10, Loss: 9.894321920000948e-06\n"
          ]
        }
      ]
    },
    {
      "cell_type": "code",
      "source": [
        "from sklearn.metrics import confusion_matrix, ConfusionMatrixDisplay\n",
        "import matplotlib.pyplot as plt\n",
        "from sklearn.metrics import precision_score, recall_score, f1_score\n",
        "model = torch.load('3layersSigmoid.pth', weights_only=False)\n",
        "\n",
        "model.eval()\n",
        "correct = 0\n",
        "total = 0\n",
        "all_labels =[]\n",
        "all_predictions=[]\n",
        "with torch.no_grad():\n",
        "  for feature_test, label_test in zip(test_features_dataloader, labels_test_dataloader):\n",
        "    predicted = model(feature_test)\n",
        "    total += 1\n",
        "    correct += (predicted.argmax(1) == label_test).type(torch.int).sum().item()\n",
        "    all_labels.extend(label_test.numpy())\n",
        "    all_predictions.extend(predicted.argmax(1).numpy())\n",
        "  cm = confusion_matrix(all_labels, all_predictions)\n",
        "  disp = ConfusionMatrixDisplay(confusion_matrix=cm)\n",
        "  disp.plot(cmap='Blues')\n",
        "  plt.title('Confusion Matrix')\n",
        "  plt.show()\n",
        "  print(correct)\n",
        "  print(total)\n",
        "  print(f\"Test Accuracy: {100 * correct / total:.2f}%\")\n",
        "  precision = precision_score(all_labels, all_predictions, average='binary')\n",
        "  recall = recall_score(all_labels, all_predictions, average='binary')\n",
        "  f1 = f1_score(all_labels, all_predictions, average='binary')\n",
        "\n",
        "  print(f\"Precision: {precision:.2f}\")\n",
        "  print(f\"Recall:    {recall:.2f}\")\n",
        "  print(f\"F1 Score:  {f1:.2f}\")"
      ],
      "metadata": {
        "id": "5gWQZyM25_05"
      },
      "execution_count": null,
      "outputs": []
    }
  ]
}